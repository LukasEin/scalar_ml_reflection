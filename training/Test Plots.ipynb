{
 "cells": [
  {
   "cell_type": "markdown",
   "metadata": {},
   "source": [
    "# Test plots\n",
    "\n",
    "Please insert the models that you want to visualize in `filenames` and `ls_filenames`. The former should contain the files corresponding to the test results on the $60 \\times 4$ lattice, whereas the latter should contain the test results on different lattice sizes. Note that architectures that contain a flattening step are confined to a single lattice size."
   ]
  },
  {
   "cell_type": "code",
   "execution_count": null,
   "metadata": {},
   "outputs": [],
   "source": [
    "import pickle, os\n",
    "import numpy as np, matplotlib.pyplot as plt\n",
    "\n",
    "path = 'test_pickles'\n",
    "filenames = ['test_ref.pickle']\n",
    "\n",
    "losses = []\n",
    "MSEs = []\n",
    "results = []\n",
    "train_sample_numbers = []\n",
    "\n",
    "for filename in filenames:\n",
    "    with open(os.path.join(path, filename), 'rb') as file:\n",
    "        print('loading ' + filename)\n",
    "        loss, MSE, result, train_sample_number = pickle.load(file)\n",
    "        losses.append(loss)\n",
    "        MSEs.append(MSE)\n",
    "        results.append(result)\n",
    "        train_sample_numbers.append(train_sample_number)\n",
    "\n",
    "losses = np.array(losses)\n",
    "MSEs = np.array(MSEs)\n",
    "train_sample_numbers = np.array(train_sample_numbers)\n",
    "\n",
    "ls_filenames = ['ls_test_ref.pickle']\n",
    "\n",
    "ls_losses = []\n",
    "ls_MSEs = []\n",
    "ls_dims = []\n",
    "for ls_filename in ls_filenames:\n",
    "    with open(os.path.join(path, ls_filename), 'rb') as file:\n",
    "        print('loading ' + ls_filename)\n",
    "        ls_loss, ls_MSE, ls_dim = pickle.load(file)\n",
    "        ls_losses.append(ls_loss)\n",
    "        ls_MSEs.append(ls_MSE)\n",
    "        ls_dims.append(ls_dim)\n",
    "        \n",
    "ls_losses = np.array(ls_losses)\n",
    "ls_MSEs = np.array(ls_MSEs)"
   ]
  },
  {
   "cell_type": "code",
   "execution_count": null,
   "metadata": {},
   "outputs": [],
   "source": [
    "mean_losses = np.mean(losses, axis=2)\n",
    "min_losses = np.min(losses, axis=2)\n",
    "max_losses = np.max(losses, axis=2)\n",
    "std_losses = np.std(losses, axis=2)\n",
    "mean_MSEs = np.mean(MSEs, axis=2)\n",
    "min_MSEs = np.min(MSEs, axis=2)\n",
    "max_MSEs = np.max(MSEs, axis=2)\n",
    "std_MSEs = np.std(MSEs, axis=2)\n",
    "\n",
    "mean_ls_losses = np.mean(ls_losses, axis=2)\n",
    "min_ls_losses = np.min(ls_losses, axis=2)\n",
    "max_ls_losses = np.max(ls_losses, axis=2)\n",
    "std_ls_losses = np.std(ls_losses, axis=2)\n",
    "mean_ls_MSEs = np.mean(ls_MSEs, axis=2)\n",
    "min_ls_MSEs = np.min(ls_MSEs, axis=2)\n",
    "max_ls_MSEs = np.max(ls_MSEs, axis=2)\n",
    "std_ls_MSEs = np.std(ls_MSEs, axis=2)"
   ]
  },
  {
   "cell_type": "code",
   "execution_count": null,
   "metadata": {},
   "outputs": [],
   "source": [
    "colors = ['g', 'b', 'r', 'c', 'm', 'y', 'k']\n",
    "labels = [filenames[i][:-7] for i in range(len(filenames))]\n",
    "ls_labels = [ls_filenames[i][:-7] for i in range(len(ls_filenames))]\n",
    "fontsize = 14\n",
    "alpha = 0.125\n",
    "\n",
    "fig, axs = plt.subplots(nrows=1, ncols=2, figsize = (15, 4), sharey = True, gridspec_kw = {'wspace':0.03, 'hspace':0})\n",
    "\n",
    "for j, (col, label) in enumerate(zip(colors, labels)):\n",
    "    axs[0].plot(train_sample_numbers[j], min_losses[j], col, label=label, marker='.')\n",
    "    axs[0].plot(train_sample_numbers[j], max_losses[j], col, marker='.')\n",
    "    axs[0].plot(train_sample_numbers[j], mean_losses[j], col+'--', marker='.')\n",
    "    axs[0].fill_between(train_sample_numbers[j], min_losses[j], max_losses[j], facecolor=col, alpha=alpha)\n",
    "    axs[0].fill_between(train_sample_numbers[j], np.quantile(losses[j], q=0.2, axis=1), np.quantile(losses[j], q=0.8, axis=1), facecolor=col, alpha=alpha)\n",
    "    axs[0].fill_between(train_sample_numbers[j], np.quantile(losses[j], q=0.4, axis=1), np.quantile(losses[j], q=0.6, axis=1), facecolor=col, alpha=alpha)\n",
    "\n",
    "for j, (col, ls_label) in enumerate(zip(colors, ls_labels)):\n",
    "    axs[1].plot(np.arange(len(ls_dims[j])), min_ls_losses[j], col, label=ls_label, marker='.')\n",
    "    axs[1].plot(np.arange(len(ls_dims[j])), max_ls_losses[j], col, marker='.')\n",
    "    axs[1].plot(np.arange(len(ls_dims[j])), mean_ls_losses[j], col+'--', marker='.')\n",
    "    axs[1].fill_between(np.arange(len(ls_dims[j])), min_ls_losses[j], max_ls_losses[j], facecolor=col, alpha=alpha)\n",
    "    axs[1].fill_between(np.arange(len(ls_dims[j])), np.quantile(ls_losses[j], q=0.2, axis=1), np.quantile(ls_losses[j], q=0.8, axis=1), facecolor=col, alpha=alpha)\n",
    "    axs[1].fill_between(np.arange(len(ls_dims[j])), np.quantile(ls_losses[j], q=0.4, axis=1), np.quantile(ls_losses[j], q=0.6, axis=1), facecolor=col, alpha=alpha)\n",
    "\n",
    "axs[0].set_ylabel('test loss', fontsize=fontsize)\n",
    "axs[0].set_ylim(1e-8, 1e-1)\n",
    "axs[0].set_yscale('log')\n",
    "axs[0].set_xscale('log')\n",
    "axs[0].set_xlabel('training samples', fontsize=fontsize)\n",
    "\n",
    "for i in range(1):\n",
    "    axs[i].grid(alpha=0.7, linewidth=0.5)\n",
    "    axs[i].legend()\n",
    "\n",
    "max_dims = np.argmax([len(ls_dims[i]) for i in range(len(ls_dims))])\n",
    "axs[1].set_xticks(np.arange(len(ls_dims[max_dims])))\n",
    "axs[1].set_xticklabels(ls_dims[max_dims])\n",
    "axs[1].set_xlabel('lattice size', fontsize=fontsize)\n",
    "\n",
    "plt.show()"
   ]
  },
  {
   "cell_type": "code",
   "execution_count": null,
   "metadata": {},
   "outputs": [],
   "source": []
  }
 ],
 "metadata": {
  "kernelspec": {
   "display_name": "Python 3.7.7 ('regression')",
   "language": "python",
   "name": "python3"
  },
  "language_info": {
   "codemirror_mode": {
    "name": "ipython",
    "version": 3
   },
   "file_extension": ".py",
   "mimetype": "text/x-python",
   "name": "python",
   "nbconvert_exporter": "python",
   "pygments_lexer": "ipython3",
   "version": "3.7.7"
  },
  "vscode": {
   "interpreter": {
    "hash": "e414d9badab23790d6e50d62656fbecc71bbdc03f340f772773efa90285a9aaf"
   }
  }
 },
 "nbformat": 4,
 "nbformat_minor": 4
}
